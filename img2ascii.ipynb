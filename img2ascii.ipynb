{
 "cells": [
  {
   "cell_type": "code",
   "execution_count": 2,
   "metadata": {},
   "outputs": [],
   "source": [
    "from PIL import Image\n",
    "from IPython.display import display"
   ]
  },
  {
   "cell_type": "code",
   "execution_count": 114,
   "metadata": {},
   "outputs": [
    {
     "data": {
      "image/png": "[encoded data removed]",
      "text/plain": [
       "<PIL.PngImagePlugin.PngImageFile image mode=P size=126x126>"
      ]
     },
     "metadata": {},
     "output_type": "display_data"
    }
   ],
   "source": [
    "image = Image.open(r\"C:\\Users\\Diego\\Pictures\\FylibY4XsAQvmct.png\")\n",
    "rgb_im = image.convert(\"RGB\")\n",
    "width, height = image.size\n",
    "display(image)"
   ]
  },
  {
   "cell_type": "code",
   "execution_count": 109,
   "metadata": {},
   "outputs": [],
   "source": [
    "# chars from darker to lighter\n",
    "ASCII = ['$', '@', 'B', '%', '8', '&', 'W', 'M', '#', '*', 'o', 'a', 'h', 'b', 'k', 'd', 'p', 'q', 'w', 'm', 'Z', 'O', '0', 'Q', 'L', 'C', 'J', 'U', 'Y', 'X', 'z', 'c', 'v', 'u', 'n', 'x', 'r', 'j', 'f', 't', '/', '\\\\', '|', '(', ')', '1', '{', '}', '[', ']', '?', '-', '_', '+', '~', '<', '>', 'i', '!', 'l', 'I', ';', ':', ',', '\"', '^', '`', \"'\", '.']"
   ]
  },
  {
   "cell_type": "code",
   "execution_count": 118,
   "metadata": {},
   "outputs": [
    {
     "name": "stdout",
     "output_type": "stream",
     "text": [
      "..............................................................................................................................\n",
      "..............................................................................................................................\n",
      "..............................................................................................................................\n",
      "..............................................................................................................................\n",
      "..............................................................................................................................\n",
      "..............................................................................................................................\n",
      "..............................................................................................................................\n",
      "..............................................................................................................................\n",
      "..............................................................................................................................\n",
      "..............................................................................................................................\n",
      ".........................................................',Iii<<iiI,'.........................................................\n",
      "....................................................,i}uZqaW$$$$$$WaqZu}i,....................................................\n",
      ".................................................I\\Ya$$$$&*kmLLLLmk*&$$$$aY(I.................................................\n",
      "..............................................^\\q$$$$Ln|}?+~~~~~~~~+?}|nL$$$$q\\^..............................................\n",
      "............................................<L$$$mn}~~++--------------++~~}nm$$$Y<............................................\n",
      "..........................................-q$$kn}++------------------------+-}nk$$q-..........................................\n",
      "........................................iL$$m|-+------------------------------+?|m$$Li........................................\n",
      "......................................^u$$k|++----------------------------------++|k$$u^......................................\n",
      ".....................................-$$*/~+---------------------------------------~/&$$-.....................................\n",
      "...................................'u$$X-+------------------------------------->iii~+-X$$u'...................................\n",
      "..................................iq$*)+---------------------------------------iiiiii_+)*$ZI..................................\n",
      ".................................<W$L-+----------------------------------------iiiiiii~+?L$a<.................................\n",
      "................................-$$n~------------------------------------------_>iiiiii_-+X$$-................................\n",
      "...............................}$$/~---------------------------------------------~iiiiii_-~/$$}...............................\n",
      "..............................}$$)+-----------------??----------------------------_iiiiii_-+)$$}..............................\n",
      ".............................}$@)+-----------------+m}-----------------------------_iiiii>--+|@$}.............................\n",
      "............................<$@|~-----------------+rX+------------------------------_iiiii_--~/$$<............................\n",
      "...........................,$$/~------------------~k?--------------------------------~iiii_---~r$$^...........................\n",
      "..........................'a$n~-------------------}L+-----------------------~}-------->ii~-----~n$q'..........................\n",
      "..........................u$L+-------------------+nr+----------------------+XL---------__-------+L$u..........................\n",
      ".........................-$&---------------------+J)+---------------------+mr+--------------------$$-.........................\n",
      "........................,a$|+---------------------L?-+-------------------+L/~--------------------+|$a^........................\n",
      "........................u$X~------------------~k?+L?+r?-----------------+|L~----------------------~J$u........................\n",
      ".......................<$*?-------------------+/X~X}|J+-----------------+L}------------------------?*$i.......................\n",
      ".......................Z$/+---------------------m?-~m}-------------------L-------------------------+r$L.......................\n",
      "......................<$m----------------------~J|+?m-------------------+J)+-------------------------k$<......................\n",
      "......................L$|+---------------------+/r~|X~------------------+}k~------------------------+|$Y......................\n",
      ".....................<$k+----------------------+)X~rr+-------------------+rJ+------------------------+k$i.....................\n",
      ".....................Y$/+----------------------+)X~nr+--------------------~L/+-----------------------+r$u.....................\n",
      "...................'-W@+-----------------------+|n~rr+---------------------?m?------------------------+$W-'...................\n",
      ".................'(q$$X~-----------------------+n/+|X+---}+----------------~L)------------------------~X$$q('.................\n",
      "................}W$$$$)+---------------------+-~m}+?L----k)~---------------~J)------------------------+)$$$$W}................\n",
      "..............Iq$$J)@k~----------------------X+-?+-~m}----mr~+-------------~m}-------------------------+k&)J$$qI..............\n",
      ".............-$$m}~r$n~-------------------~?mn~+++-------nmmm)-~+++++-----+/J+-------------------------~X$r~}m$$-.............\n",
      "............\\$$r++~m$)+----------------+-?rmXJJ))n+-----mn?+}LLJr||n/+----?m?--------------------------+|$m~+-n$$\\............\n",
      "...........j$$)~--+$*?----------------}LLkn?~~?JXm?---+m)~---~?|rXJk}---++-?+---------------------------?*$+--~)$$j...........\n",
      "..........j$@}+--+)$m+---------------+|J-~~++++~nk/+-+|J~~~+++~~~~~L}++~/n+-----------------------------+m$}---+}$$\\..........\n",
      ".........}$&}+---+r$X~---------------~J?-}|/rr/)}*/+-~nJLkB888MZmX|X/?/mJ-------------------------------~X$/+---+}&$}.........\n",
      "........I$$)+----+X$|+--------------+|kULM***r-\\u&}--+ru,ikkk*j.,i\\a)XX}+-------------------------------+/$n+----+|$$I........\n",
      ".......'Z$r~-----+m$}---------------+)k<I*kk*i..}X~---?q..[ZZz^...,Q-rJ/?--------------------------------}$L+-----~r$L........\n",
      ".......($m~------+X*-----------------}/Q^Ijji..\\J+----+/Y...^....,Z)+?}X/+--------------------------------X|+------~m$}.......\n",
      "......,W$?--------~~------------------+?m\\I''I\\L~------}Xk\\i''^<ja}+---++-----}+--------------------------++-------+}$a,......\n",
      "......j$X~------------------------------+)XJJXm)+------?k+/JLmLX)++----------?$|+-----------------------------------~J$\\......\n",
      ".....^a@}---------]----------------------+~~~~L?-------+rJ+~--+~+------------+nk+-------------------------_]---------}@a'.....\n",
      ".....}$L~--------_[-----------------------/})r&}+-------+XL?++-----------------$?-------------------------_[---------~L$-.....\n",
      ".....L$)+--------_}]----------------------XJJrnn+--------~|*J|}?--------------~*/+------------------------_1---------+|$Y.....\n",
      "....'$k?---------_[[_---------------------+~++?m----------+~)XJ/+-------------+mr+-------------------------1----------?k$.....\n",
      "....<$L~---------_[}_-------------------------~k?-----------++++--------------~*/+------------------------]}_---------+L$i....\n",
      "....}$n~---------_]1_-------------------------~J)---------+--------------------$}------------------------_}}_---------~n$}....\n",
      "....\\$|+----------](--------------------------+n/+-------})+-----------------+nk+------------------------_1}_---------+/$\\....\n",
      "....u$}-----------](-_------------------------~Lr+-------}*?----------------+}$)+-----------------------_-([_---------+)$j....\n",
      "....u$}------------(}_------------------------kk/+-------+)k~--------------~)$n~------------------------_[(]----------+)$u....\n",
      "....j$)+----------_(1-----------------------+J/n|+------++-kn+---------+++}J$n+-------------------------_1(-----------+|$j....\n",
      "....($/+----------_1(]_---------------------?m~L}-----+?n/~J&?------+?})rm&m)+-------------------------_-((_----------+r$(....\n",
      "....-$J~----------+zj[_----------------------m?k?----+}&rL|XrJ+-----J$$$kn)~+--------------------------_[(1_----------~J$-....\n",
      "....^$a1]__-------?$d(-----------------------LmJ+---+?*?}L/k~k}---+mm)+~~++----------------------------_(j)_-------__-}a$'....\n",
      ".....L$x)}]______-[B&j[_-------------------+|n)k?~+~?k|?m|-)+/X~--}*}+--------------------------------_[j$k]-______-[)x$L.....\n",
      ".....<$a(((1}[[}1()Z$x)_-------------------~X}+/mJnJm|+-++-+-+m?--)*?---------------------------------_)z$C)(1}[[}1(((a$<.....\n",
      "......Y$Z)(((((((()x$Z)]_-------------------L+-+?|/|-+-------~X|+-}*}--------------------------------_])Z$x)(((((((()Z$u......\n",
      "......,a$C)((((((()(&#((_------------------?L~---++++~~------+)J~--*|+-------------------------------_((##((((((((()C$a^......\n",
      ".......IW$Z()(((((()d$x([_-----------------?L~--~)}+/mJ}+-----?m+--*|+------------------------------_[(x$Z)(((((()(Z$W,.......\n",
      "........,a$#z())))))x$Z)(-_-----------------n++}mLLZX11h)+----+L}+}L?--------------------------------()d$x))))))(z#$a,........\n",
      ".........'u$$aZzxjjjx#$((1_-------------------+k1???1???a}+---~X|+---------------------------------_1)($#xjjjxzZa$$u'.........\n",
      "...........iY$$$$$$$$$$C)(]_-----------------+nr1L??XL1?1m}+--+rr+--------------------------------_[()C$$$$$$$$$$ui...........\n",
      ".............'-(juuujj$$(((-_----------------?$1\\aa1XqmaLq$*}--++---------------------------------]((($$jjuuuj(-'.............\n",
      "......................j$C)(1_----------------+XhXr1Wj???1X/~------------------------------------_-(()C$j......................\n",
      "......................,$B()(}_-----------------m???1?????q?--------------------------------------1()(B$^......................\n",
      ".......................j$C)((}_---------------+nX???????Xn+------------------------------------_}(()Z$j.......................\n",
      ".......................^$$j)(([_---------------+LX????1Xm+------------------------------------_}(()j$$'.......................\n",
      "........................}$a)((([_---------------+r*mmam/~------------------------------------_}((()a$-........................\n",
      ".........................Z$C)((([_-------}L+-----+~++~}?-----------------------------------__1((()C$Y.........................\n",
      ".......................-ZB$$j)(((}-_-----~*-----+|mLLmm}------------------------------------1((()j$$a(^.......................\n",
      ".....................iL$$#p$#()(((1-_----~*-------}))?++---------------------------------_-1((()(&$o$$a-......................\n",
      "....................\\$$#QXXk$d)(((((]_--~Lr+-----+~~~+----------------------------------_]((((()d$kXCk$$Y^....................\n",
      "..................^q$@ZXYYYX#$Z)(((((}~}kn~----+?nLmJ/--------------------------------_-1((((()Z$#XYYXC#$$<...................\n",
      ".................IW$oUYYYYYYUW$C)(((()Cm}+----+|kr}?}n?------------------++}--------__[(((((()Z$#UYYYYYYp$$-..................\n",
      "................Ia$pYYYYYYYYYC&$C)((()a?+-----?k?~---+-----------------++)mn+------_]1(((((()C$WCYYYYYYYXZ$$-.................\n",
      "...............,a$pXYYYYYYYYYXCB$C)(()d?-----+L)+--------------------++}Lm}+----__]1(((((())C$&CXYYYYYYYYXQ$$<................\n",
      "...............Z$kXYYYYYYYYYYYXC@$Z)))d}-----+k~-------------------+~}mm)~----__[1((((((())Z$&CYYYYYYYYYYYXZ$$I...............\n",
      "..............u$kXYYYYYYYYYYYYYYUW$aj)Z|~+---+k+-----------------+~)mm}~+___-]}((((((((()ja$WYYYYYYYYYYYYYYXw$q...............\n",
      ".............<$&UYYYYYYYYYYYYYYYYUo$$x(ZL|++-+k+---------------+-/mJ)+__-][1(((((((((())x$$oUYYYYYYYYYYYYYYYXo$j..............\n",
      "............'q$QXYYYYYYYYYYYYYYYYYYp$$C(jZmr?~k+------------++?rmJ)]][11((((((((((((()(C$$pYYYYYYYYYYYYYYYYYYCB$,.............\n",
      "............}$oXYYYYYYYYYYYYYYYYYYYXQ$$#x)(zdJW~++-------++~}JaC()((((((((((((((((())x#$$QXYYYYYYYYYYYYYYYYYYXw$u.............\n",
      "...........'q$UYYYYYYYYYYYYYYYYYYYYYYYk$$dj))jCaLr)+~~~~+)nkZx))((((((((((((((((())jd$$kYYYYYYYYYYYYYYYYYYYYYYY&$,............\n",
      "...........<$oXYYYYYYYYYYYYYYYYYYYYYYYXQ#$$Zj)))jzZddmmddZx())((((((((((((((((())jZ$$#QXYYYYYYYYYYYYYYYYYYYYYYXw$j............\n",
      "...........Y$QYYYYUYYYYYYYYYYYYYYYYYYYYYYw&$$dx()))(((((())((((((((((((((((())(xd$$&ZYYYYYYYYYYYYYYYYYYYYYYYUUYU$q^...........\n",
      "..........,aBUYn)}nYYYYYYYYYYYYYYYYYYYYYYXUw&$$dzj))))((((((((((((((((((()))jCd$$WwUXYYYYYYYYYYYYYYYYYYYYYYn)jYXo$<...........\n",
      "..........<$oXU}??)UYYYYYYYYYYYYYYYYYYYYYYYXYZ#$$$aCx))))))))(((())))))))xCa$$$#QYXYYYYYYYYYYYYYYYYYYYYYYYU)??)UZ$\\...........\n",
      "..........($ZYj???)UYYYYYYYYYYYYYYYYYYYYYYYYYYXCw#$$$$#ZCzxj((((((jxzCZ#$$$$owCXYYYYYYYYYYYYYYYYYYYYYYYYYYU}???nC$L...........\n",
      "..........Y$QU(???jUYYYYYYYYYYYYYYYYYYYYYYYYYYYYYYUZo&$$$$$$@@@@@@$$$$$$&#ZUYYYYYYYYYYYYYYYYYYYYYYYYYYYYYYU(???jUBq^..........\n",
      "..........WBCYj??)UYYYYYYYYYYYYYYYYYYYYYYYYYYYYYYYYXwpkko#$$ZqqqZW$BookkppQXYYYYYYYYYYYYYYYYYYYYYYYYYYYYYYYU}??jXWWI..........\n",
      "..........$WUYYjjYYYYYYYYYYYYYYYYYYYYYYYYYYYYYYYYYYQppppp&$\\.....<$@kppppppCYYYYYYYYYYYYYYYYYYYYYYYYYYYYYYYUn))YXo$i..........\n",
      ".........'$#YYYUUYYYYYYYYYYYYYYYYYYYYYYYYYYYYYYYYYUkpppp@$j.......}$$oppppppCYYYYYYYYYYYYYYYYYYYYYYYYYYYYYYYYUUYXk$<..........\n",
      ".........'$#YYYYYYYYYYYYYYYYYYYYYYYYYYYYYYYYYYYYYYwpppk@$j.........}$$oppppppUYYYYYYYYYYYYYYYYYYYYYYYYYYYYYYYYYYXk$<..........\n",
      "..........B#YYYYYYYYYYYYYYYYYYYYYYYYYYYYYYYYYYYYYZpppo$$\\...........-$$oppppppUYYYYYYYYYYYYYYYYYYYYYYYYYYYYYYYYYXk$<..........\n",
      "..........$WUYYYYYYYYYYYYYYYYYYYYYYYYYYYYYYYYYYYQppp#$$(.............i$$WkpppppUYYYYYYYYYYYYYYYYYYYYYYYYYYYYYYYYXo$i..........\n",
      "..........h$CYYYYYYYYYYYYYYYYYYYYYYYYYYYYYYYYYXQppk&$W<...............,Z$@opppppCYYYYYYYYYYYYYYYYYYYYYYYYYYYYYYYY&a,..........\n",
      "..........\\$wXYYYYYYYYYYYYYYYYYYYYYYYYYYYYYYYXQpp#$$Y^..................\\$$&kppppCXYYYYYYYYYYYYYYYYYYYYYYYYYYYYYQ$Z...........\n",
      "..........IW@UYYYYYYYYYYYYYYYYYYYYYYYYYYYYYYYQko$$a-.....................IL$$WkpppQXYYYYYYYYYYYYYYYYYYYYYYYYYYYXW$-...........\n",
      "...........\\$BCXYYYYYYYYYYYYYYYYYYYYYYYYYYXUwo@$Wj^........................}q$$#kppZYYYYYYYYYYYYYYYYYYYYYYYYYXUk$Y............\n",
      "............u$@kCYYYYYYYYYYYYYYYYYYYYYYYYYZ#$$$jI...........................^(a$$WokwYYYYYYYYYYYYYYYYYYYYYXYCwW$Z^............\n",
      ".............}$$$#pQXXXYYYYYYYYYYYYYXXUZkB$$$\\,................................}a$$$WoQXXYYYYYYYYYYYYYYXXCwo$$$Y'.............\n",
      "...............}L$$$$#pZQCUUYYYUCQQwk$$$$$u-.....................................Ijq$$$$owZQCUYYYYUCQZwo$$$$q\\,...............\n",
      ".................,}Yq$$$$$@BBBB@$$$$$WLj<'..........................................i\\Ya$$$$$@BBBB@$$$$$aY\\I..................\n",
      "....................^I<\\uLZqqqqqZYj}<,.................................................,i-jYLqqqqqqLYj-i,.....................\n",
      "............................'''................................................................''.............................\n",
      "..............................................................................................................................\n",
      "..............................................................................................................................\n",
      "..............................................................................................................................\n",
      "..............................................................................................................................\n",
      "..............................................................................................................................\n",
      "..............................................................................................................................\n",
      "..............................................................................................................................\n",
      "..............................................................................................................................\n",
      "..............................................................................................................................\n",
      "..............................................................................................................................\n"
     ]
    }
   ],
   "source": [
    "for i in range(height):\n",
    "    for j in range(width):\n",
    "        R, G, B = rgb_im.getpixel((j,i))\n",
    "        pixelBrightness = int(sum([R,G,B])/3)\n",
    "        charNum = int( (pixelBrightness * len(ASCII)-1) / 255 )\n",
    "        print(ASCII[charNum], end=\"\")\n",
    "    print()"
   ]
  }
 ],
 "metadata": {
  "kernelspec": {
   "display_name": ".venv",
   "language": "python",
   "name": "python3"
  },
  "language_info": {
   "codemirror_mode": {
    "name": "ipython",
    "version": 3
   },
   "file_extension": ".py",
   "mimetype": "text/x-python",
   "name": "python",
   "nbconvert_exporter": "python",
   "pygments_lexer": "ipython3",
   "version": "3.10.9"
  }
 },
 "nbformat": 4,
 "nbformat_minor": 2
}
